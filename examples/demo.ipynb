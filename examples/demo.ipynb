{
 "cells": [
  {
   "cell_type": "markdown",
   "metadata": {},
   "source": [
    "## Install llama3 locally via Ollama"
   ]
  },
  {
   "cell_type": "markdown",
   "metadata": {},
   "source": [
    "See \"Using Llama 3 With Ollama\" section of https://www.datacamp.com/tutorial/run-llama-3-locally\n",
    "\n",
    "To summarize:\n",
    "- install `ollama`\n",
    "- run `ollama run llama3`\n",
    "    - the first time this step is performed, the model will be locally downloaded"
   ]
  },
  {
   "cell_type": "markdown",
   "metadata": {},
   "source": [
    "## Install other deps"
   ]
  },
  {
   "cell_type": "code",
   "execution_count": 1,
   "metadata": {},
   "outputs": [],
   "source": [
    "from llama_index.llms.ollama import Ollama\n",
    "from pypdf import PdfReader"
   ]
  },
  {
   "cell_type": "markdown",
   "metadata": {},
   "source": [
    "## Running llama locally"
   ]
  },
  {
   "cell_type": "code",
   "execution_count": 2,
   "metadata": {},
   "outputs": [
    {
     "name": "stdout",
     "output_type": "stream",
     "text": [
      "Paul Graham is an American computer programmer, entrepreneur, and investor. He is best known as the co-founder of Yahoo!, one of the most popular web portals in the early 2000s.\n",
      "\n",
      "Graham was born in 1955 in Cambridge, Massachusetts. He received his undergraduate degree from Harvard University and later earned a Ph.D. in Computer Science from Harvard in 1983. After completing his graduate studies, Graham worked as a research fellow at the MIT Artificial Intelligence Laboratory for several years.\n",
      "\n",
      "In 1994, Graham co-founded Yahoo! with Jerry Yang and David Filo. The company started as a student project at Stanford University, where Yang and Filo were pursuing their graduate degrees. Graham served as Yahoo!'s first CEO until he stepped down in 1995.\n",
      "\n",
      "Graham is also known for his writings on entrepreneurship, technology, and innovation. He has written several influential essays and articles, including \"How to Start a Startup\" and \"The Power of Iteration,\" which have been widely read and shared online.\n",
      "\n",
      "In addition to his work at Yahoo!, Graham has invested in numerous startups through his venture capital firm, Y Combinator (YC). Founded in 2005, YC is one of the most successful startup accelerators in the world, having backed companies like Airbnb, Dropbox, and Reddit. Graham serves as the president of YC.\n",
      "\n",
      "Throughout his career, Graham has been recognized for his contributions to the technology industry. He was named one of the \"50 Most Influential People in Technology\" by Fast Company magazine in 2005.\n"
     ]
    }
   ],
   "source": [
    "llm = Ollama(model=\"llama3\", request_timeout=120.0)\n",
    "resp = llm.complete(\"Who is Paul Graham?\")\n",
    "print(resp)"
   ]
  },
  {
   "cell_type": "markdown",
   "metadata": {},
   "source": [
    "## Summarize PDF"
   ]
  },
  {
   "cell_type": "code",
   "execution_count": 8,
   "metadata": {},
   "outputs": [
    {
     "name": "stdout",
     "output_type": "stream",
     "text": [
      "  % Total    % Received % Xferd  Average Speed   Time    Time     Time  Current\n",
      "                                 Dload  Upload   Total   Spent    Left  Speed\n",
      "100 2039k  100 2039k    0     0  9412k      0 --:--:-- --:--:-- --:--:-- 9528k\n"
     ]
    }
   ],
   "source": [
    "!curl https://arxiv.org/pdf/2212.08073 -o examples/data/2212.08073.pdf"
   ]
  },
  {
   "cell_type": "code",
   "execution_count": 9,
   "metadata": {},
   "outputs": [
    {
     "name": "stdout",
     "output_type": "stream",
     "text": [
      "Constitutional AI: Harmlessness from AI Feedback\n",
      "Yuntao Bai∗, Saurav Kadavath, Sandipan Kundu, Amanda Askell, Jackson Kernion,\n",
      "Andy Jones, Anna Chen, Anna Goldie, Azalia Mirhoseini, Cameron McKinnon,\n",
      "Carol Chen, Catherine Olsson, Christopher Olah, Danny Hernandez, Dawn Drain,\n",
      "Deep Ganguli, Dustin Li, Eli Tran-Johnson, Ethan Perez, Jamie Kerr, Jared Mueller,\n",
      "Jeffrey Ladish, Joshua Landau, Kamal Ndousse, Kamile Lukosuite, Liane Lovitt,\n",
      "Michael Sellitto, Nelson Elhage, Nicholas Schiefer, Noemi Merc\n"
     ]
    }
   ],
   "source": [
    "reader = PdfReader(\"examples/data/2212.08073.pdf\")\n",
    "number_of_pages = len(reader.pages)\n",
    "text = \"\".join(page.extract_text() for page in reader.pages)\n",
    "print(text[:500])"
   ]
  },
  {
   "cell_type": "code",
   "execution_count": 10,
   "metadata": {},
   "outputs": [],
   "source": [
    "prompt = f\"\"\"Here is an academic paper: <paper>{text}</paper>\n",
    "\n",
    "Please do the following:\n",
    "1. Summarize the abstract at a kindergarten reading level. (In <kindergarten_abstract> tags.)\n",
    "2. Write the Methods section as a recipe from the Moosewood Cookbook. (In <moosewood_methods> tags.)\n",
    "3. Compose a short poem epistolizing the results in the style of Homer. (In <homer_results> tags.)\n",
    "\"\"\"\n",
    "\n",
    "resp = llm.complete(prompt)\n",
    "print(resp)"
   ]
  }
 ],
 "metadata": {
  "kernelspec": {
   "display_name": "llama_poc",
   "language": "python",
   "name": "python3"
  },
  "language_info": {
   "codemirror_mode": {
    "name": "ipython",
    "version": 3
   },
   "file_extension": ".py",
   "mimetype": "text/x-python",
   "name": "python",
   "nbconvert_exporter": "python",
   "pygments_lexer": "ipython3",
   "version": "3.12.4"
  }
 },
 "nbformat": 4,
 "nbformat_minor": 2
}
